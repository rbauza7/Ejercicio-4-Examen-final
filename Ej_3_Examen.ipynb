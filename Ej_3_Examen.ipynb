{
  "nbformat": 4,
  "nbformat_minor": 0,
  "metadata": {
    "colab": {
      "provenance": [],
      "authorship_tag": "ABX9TyMYX4rXdtWhQYEifY3Upi4P",
      "include_colab_link": true
    },
    "kernelspec": {
      "name": "ir",
      "display_name": "R"
    },
    "language_info": {
      "name": "R"
    }
  },
  "cells": [
    {
      "cell_type": "markdown",
      "metadata": {
        "id": "view-in-github",
        "colab_type": "text"
      },
      "source": [
        "<a href=\"https://colab.research.google.com/github/rbauza7/Ejercicio-4-Examen-final/blob/main/Ej_3_Examen.ipynb\" target=\"_parent\"><img src=\"https://colab.research.google.com/assets/colab-badge.svg\" alt=\"Open In Colab\"/></a>"
      ]
    },
    {
      "cell_type": "code",
      "execution_count": null,
      "metadata": {
        "id": "0EtkoGF_1GYR"
      },
      "outputs": [],
      "source": []
    },
    {
      "cell_type": "markdown",
      "source": [
        "La selección de un modelo adecuado para predecir la potabilidad del agua requiere un punto de vista estructurado que considere tanto las características del conjunto de datos como las fortalezas y limitaciones de los modelos disponibles. El primer paso es el preprocesamiento, donde se identifican y corrigen problemas como valores faltantes, outliers y escalas inconsistentes. Posteriormente, se evalúan diferentes algoritmos de clasificación, como árboles de decisión, Naive Bayes, Random Forest y SVM, cada uno con ventajas específicas dependiendo de la naturaleza de los datos. Por ejemplo, Random Forest es particularmente robusto frente a outliers y permite calcular la importancia de las variables, mientras que SVM es efectivo para datos con límites de decisión no lineales pero requiere escalado previo. La elección  debe justificarse mediante métricas de evaluación como la matriz de confusión y el F1-score, asegurando que el modelo seleccionado ofrezca un buen balance entre precisión, sensibilidad y especificidad. Este enfoque garantiza que la decisión esté basada tanto en el rendimiento técnico como en la capacidad del modelo para abordar las peculiaridades del problema planteado.Primero evaluemos los datos."
      ],
      "metadata": {
        "id": "larHhRlt2IvQ"
      }
    },
    {
      "cell_type": "markdown",
      "source": [
        "**Instalar R**"
      ],
      "metadata": {
        "id": "xbFBkSoy2o-n"
      }
    },
    {
      "cell_type": "code",
      "source": [
        "# Instalar R\n",
        "!apt-get install -y r-base\n",
        "# Instalar IRKernel\n",
        "!R -e \"install.packages('IRkernel'); IRkernel::installspec(user = FALSE)\"\n"
      ],
      "metadata": {
        "colab": {
          "base_uri": "https://localhost:8080/"
        },
        "id": "Fj1L6HN82ru4",
        "outputId": "9348bb80-cf95-489d-a0a8-4a968db9e56d"
      },
      "execution_count": 1,
      "outputs": [
        {
          "output_type": "stream",
          "name": "stdout",
          "text": [
            "Reading package lists... Done\n",
            "Building dependency tree... Done\n",
            "Reading state information... Done\n",
            "r-base is already the newest version (4.4.2-1.2204.0).\n",
            "0 upgraded, 0 newly installed, 0 to remove and 49 not upgraded.\n",
            "\n",
            "R version 4.4.2 (2024-10-31) -- \"Pile of Leaves\"\n",
            "Copyright (C) 2024 The R Foundation for Statistical Computing\n",
            "Platform: x86_64-pc-linux-gnu\n",
            "\n",
            "R is free software and comes with ABSOLUTELY NO WARRANTY.\n",
            "You are welcome to redistribute it under certain conditions.\n",
            "Type 'license()' or 'licence()' for distribution details.\n",
            "\n",
            "  Natural language support but running in an English locale\n",
            "\n",
            "R is a collaborative project with many contributors.\n",
            "Type 'contributors()' for more information and\n",
            "'citation()' on how to cite R or R packages in publications.\n",
            "\n",
            "Type 'demo()' for some demos, 'help()' for on-line help, or\n",
            "'help.start()' for an HTML browser interface to help.\n",
            "Type 'q()' to quit R.\n",
            "\n",
            "> install.packages('IRkernel'); IRkernel::installspec(user = FALSE)\n",
            "Installing package into ‘/usr/local/lib/R/site-library’\n",
            "(as ‘lib’ is unspecified)\n",
            "trying URL 'https://cran.rstudio.com/src/contrib/IRkernel_1.3.2.tar.gz'\n",
            "Content type 'application/x-gzip' length 45172 bytes (44 KB)\n",
            "==================================================\n",
            "downloaded 44 KB\n",
            "\n",
            "* installing *source* package ‘IRkernel’ ...\n",
            "** package ‘IRkernel’ successfully unpacked and MD5 sums checked\n",
            "** using staged installation\n",
            "** R\n",
            "** inst\n",
            "** byte-compile and prepare package for lazy loading\n",
            "** help\n",
            "*** installing help indices\n",
            "** building package indices\n",
            "** testing if installed package can be loaded from temporary location\n",
            "** testing if installed package can be loaded from final location\n",
            "** testing if installed package keeps a record of temporary installation path\n",
            "* DONE (IRkernel)\n",
            "\n",
            "The downloaded source packages are in\n",
            "\t‘/tmp/Rtmp7cmYfA/downloaded_packages’\n",
            "\u001b[?25h> \n",
            "> \n",
            "\u001b[?25h"
          ]
        }
      ]
    },
    {
      "cell_type": "code",
      "source": [
        "# Instalar librerías necesarias\n",
        "install.packages(\"readr\")  # Para leer datos CSV\n",
        "install.packages(\"tidyverse\")  # Paquete para manipulación de datos\n",
        "\n",
        "# Cargar librerías\n",
        "library(readr)\n",
        "library(tidyverse)\n",
        "\n",
        "# Leer archivo desde GitHub\n",
        "url <- \"https://github.com/rbauza7/Ejercicio-4-Examen-final/raw/refs/heads/main/water_potability.csv\"\n",
        "water_data <- read_csv(url)\n",
        "\n",
        "# Visualizar las primeras filas\n",
        "head(water_data)\n"
      ],
      "metadata": {
        "colab": {
          "base_uri": "https://localhost:8080/",
          "height": 668
        },
        "id": "tWROHqmB3iiW",
        "outputId": "0b3be115-3bf5-4492-8c63-eae2141c33e5"
      },
      "execution_count": 1,
      "outputs": [
        {
          "output_type": "stream",
          "name": "stderr",
          "text": [
            "Installing package into ‘/usr/local/lib/R/site-library’\n",
            "(as ‘lib’ is unspecified)\n",
            "\n",
            "Installing package into ‘/usr/local/lib/R/site-library’\n",
            "(as ‘lib’ is unspecified)\n",
            "\n",
            "── \u001b[1mAttaching core tidyverse packages\u001b[22m ──────────────────────── tidyverse 2.0.0 ──\n",
            "\u001b[32m✔\u001b[39m \u001b[34mdplyr    \u001b[39m 1.1.4     \u001b[32m✔\u001b[39m \u001b[34mpurrr    \u001b[39m 1.0.2\n",
            "\u001b[32m✔\u001b[39m \u001b[34mforcats  \u001b[39m 1.0.0     \u001b[32m✔\u001b[39m \u001b[34mstringr  \u001b[39m 1.5.1\n",
            "\u001b[32m✔\u001b[39m \u001b[34mggplot2  \u001b[39m 3.5.1     \u001b[32m✔\u001b[39m \u001b[34mtibble   \u001b[39m 3.2.1\n",
            "\u001b[32m✔\u001b[39m \u001b[34mlubridate\u001b[39m 1.9.4     \u001b[32m✔\u001b[39m \u001b[34mtidyr    \u001b[39m 1.3.1\n",
            "── \u001b[1mConflicts\u001b[22m ────────────────────────────────────────── tidyverse_conflicts() ──\n",
            "\u001b[31m✖\u001b[39m \u001b[34mdplyr\u001b[39m::\u001b[32mfilter()\u001b[39m masks \u001b[34mstats\u001b[39m::filter()\n",
            "\u001b[31m✖\u001b[39m \u001b[34mdplyr\u001b[39m::\u001b[32mlag()\u001b[39m    masks \u001b[34mstats\u001b[39m::lag()\n",
            "\u001b[36mℹ\u001b[39m Use the conflicted package (\u001b[3m\u001b[34m<http://conflicted.r-lib.org/>\u001b[39m\u001b[23m) to force all conflicts to become errors\n",
            "\u001b[1mRows: \u001b[22m\u001b[34m3276\u001b[39m \u001b[1mColumns: \u001b[22m\u001b[34m10\u001b[39m\n",
            "\u001b[36m──\u001b[39m \u001b[1mColumn specification\u001b[22m \u001b[36m────────────────────────────────────────────────────────\u001b[39m\n",
            "\u001b[1mDelimiter:\u001b[22m \",\"\n",
            "\u001b[32mdbl\u001b[39m (10): ph, Hardness, Solids, Chloramines, Sulfate, Conductivity, Organic_...\n",
            "\n",
            "\u001b[36mℹ\u001b[39m Use `spec()` to retrieve the full column specification for this data.\n",
            "\u001b[36mℹ\u001b[39m Specify the column types or set `show_col_types = FALSE` to quiet this message.\n"
          ]
        },
        {
          "output_type": "display_data",
          "data": {
            "text/html": [
              "<table class=\"dataframe\">\n",
              "<caption>A tibble: 6 × 10</caption>\n",
              "<thead>\n",
              "\t<tr><th scope=col>ph</th><th scope=col>Hardness</th><th scope=col>Solids</th><th scope=col>Chloramines</th><th scope=col>Sulfate</th><th scope=col>Conductivity</th><th scope=col>Organic_carbon</th><th scope=col>Trihalomethanes</th><th scope=col>Turbidity</th><th scope=col>Potability</th></tr>\n",
              "\t<tr><th scope=col>&lt;dbl&gt;</th><th scope=col>&lt;dbl&gt;</th><th scope=col>&lt;dbl&gt;</th><th scope=col>&lt;dbl&gt;</th><th scope=col>&lt;dbl&gt;</th><th scope=col>&lt;dbl&gt;</th><th scope=col>&lt;dbl&gt;</th><th scope=col>&lt;dbl&gt;</th><th scope=col>&lt;dbl&gt;</th><th scope=col>&lt;dbl&gt;</th></tr>\n",
              "</thead>\n",
              "<tbody>\n",
              "\t<tr><td>      NA</td><td>204.8905</td><td>20791.32</td><td>7.300212</td><td>368.5164</td><td>564.3087</td><td>10.379783</td><td> 86.99097</td><td>2.963135</td><td>0</td></tr>\n",
              "\t<tr><td>3.716080</td><td>129.4229</td><td>18630.06</td><td>6.635246</td><td>      NA</td><td>592.8854</td><td>15.180013</td><td> 56.32908</td><td>4.500656</td><td>0</td></tr>\n",
              "\t<tr><td>8.099124</td><td>224.2363</td><td>19909.54</td><td>9.275884</td><td>      NA</td><td>418.6062</td><td>16.868637</td><td> 66.42009</td><td>3.055934</td><td>0</td></tr>\n",
              "\t<tr><td>8.316766</td><td>214.3734</td><td>22018.42</td><td>8.059332</td><td>356.8861</td><td>363.2665</td><td>18.436524</td><td>100.34167</td><td>4.628771</td><td>0</td></tr>\n",
              "\t<tr><td>9.092223</td><td>181.1015</td><td>17978.99</td><td>6.546600</td><td>310.1357</td><td>398.4108</td><td>11.558279</td><td> 31.99799</td><td>4.075075</td><td>0</td></tr>\n",
              "\t<tr><td>5.584087</td><td>188.3133</td><td>28748.69</td><td>7.544869</td><td>326.6784</td><td>280.4679</td><td> 8.399735</td><td> 54.91786</td><td>2.559708</td><td>0</td></tr>\n",
              "</tbody>\n",
              "</table>\n"
            ],
            "text/markdown": "\nA tibble: 6 × 10\n\n| ph &lt;dbl&gt; | Hardness &lt;dbl&gt; | Solids &lt;dbl&gt; | Chloramines &lt;dbl&gt; | Sulfate &lt;dbl&gt; | Conductivity &lt;dbl&gt; | Organic_carbon &lt;dbl&gt; | Trihalomethanes &lt;dbl&gt; | Turbidity &lt;dbl&gt; | Potability &lt;dbl&gt; |\n|---|---|---|---|---|---|---|---|---|---|\n|       NA | 204.8905 | 20791.32 | 7.300212 | 368.5164 | 564.3087 | 10.379783 |  86.99097 | 2.963135 | 0 |\n| 3.716080 | 129.4229 | 18630.06 | 6.635246 |       NA | 592.8854 | 15.180013 |  56.32908 | 4.500656 | 0 |\n| 8.099124 | 224.2363 | 19909.54 | 9.275884 |       NA | 418.6062 | 16.868637 |  66.42009 | 3.055934 | 0 |\n| 8.316766 | 214.3734 | 22018.42 | 8.059332 | 356.8861 | 363.2665 | 18.436524 | 100.34167 | 4.628771 | 0 |\n| 9.092223 | 181.1015 | 17978.99 | 6.546600 | 310.1357 | 398.4108 | 11.558279 |  31.99799 | 4.075075 | 0 |\n| 5.584087 | 188.3133 | 28748.69 | 7.544869 | 326.6784 | 280.4679 |  8.399735 |  54.91786 | 2.559708 | 0 |\n\n",
            "text/latex": "A tibble: 6 × 10\n\\begin{tabular}{llllllllll}\n ph & Hardness & Solids & Chloramines & Sulfate & Conductivity & Organic\\_carbon & Trihalomethanes & Turbidity & Potability\\\\\n <dbl> & <dbl> & <dbl> & <dbl> & <dbl> & <dbl> & <dbl> & <dbl> & <dbl> & <dbl>\\\\\n\\hline\n\t       NA & 204.8905 & 20791.32 & 7.300212 & 368.5164 & 564.3087 & 10.379783 &  86.99097 & 2.963135 & 0\\\\\n\t 3.716080 & 129.4229 & 18630.06 & 6.635246 &       NA & 592.8854 & 15.180013 &  56.32908 & 4.500656 & 0\\\\\n\t 8.099124 & 224.2363 & 19909.54 & 9.275884 &       NA & 418.6062 & 16.868637 &  66.42009 & 3.055934 & 0\\\\\n\t 8.316766 & 214.3734 & 22018.42 & 8.059332 & 356.8861 & 363.2665 & 18.436524 & 100.34167 & 4.628771 & 0\\\\\n\t 9.092223 & 181.1015 & 17978.99 & 6.546600 & 310.1357 & 398.4108 & 11.558279 &  31.99799 & 4.075075 & 0\\\\\n\t 5.584087 & 188.3133 & 28748.69 & 7.544869 & 326.6784 & 280.4679 &  8.399735 &  54.91786 & 2.559708 & 0\\\\\n\\end{tabular}\n",
            "text/plain": [
              "  ph       Hardness Solids   Chloramines Sulfate  Conductivity Organic_carbon\n",
              "1       NA 204.8905 20791.32 7.300212    368.5164 564.3087     10.379783     \n",
              "2 3.716080 129.4229 18630.06 6.635246          NA 592.8854     15.180013     \n",
              "3 8.099124 224.2363 19909.54 9.275884          NA 418.6062     16.868637     \n",
              "4 8.316766 214.3734 22018.42 8.059332    356.8861 363.2665     18.436524     \n",
              "5 9.092223 181.1015 17978.99 6.546600    310.1357 398.4108     11.558279     \n",
              "6 5.584087 188.3133 28748.69 7.544869    326.6784 280.4679      8.399735     \n",
              "  Trihalomethanes Turbidity Potability\n",
              "1  86.99097       2.963135  0         \n",
              "2  56.32908       4.500656  0         \n",
              "3  66.42009       3.055934  0         \n",
              "4 100.34167       4.628771  0         \n",
              "5  31.99799       4.075075  0         \n",
              "6  54.91786       2.559708  0         "
            ]
          },
          "metadata": {}
        }
      ]
    },
    {
      "cell_type": "markdown",
      "source": [
        "**Características básicas**"
      ],
      "metadata": {
        "id": "PDDtrQoo4CQ7"
      }
    },
    {
      "cell_type": "code",
      "source": [
        "# Resumen general de los datos\n",
        "summary(water_data)\n",
        "\n",
        "# Verificar valores faltantes en el conjunto de datos\n",
        "colSums(is.na(water_data))\n",
        "\n",
        "# Obtener las dimensiones del conjunto de datos (filas y columnas)\n",
        "dim(water_data)\n"
      ],
      "metadata": {
        "colab": {
          "base_uri": "https://localhost:8080/",
          "height": 468
        },
        "id": "Myip-LxX4FRf",
        "outputId": "ea617672-dfc5-4448-e061-d79cbb6f2aa8"
      },
      "execution_count": 2,
      "outputs": [
        {
          "output_type": "display_data",
          "data": {
            "text/plain": [
              "       ph            Hardness          Solids         Chloramines    \n",
              " Min.   : 0.000   Min.   : 47.43   Min.   :  320.9   Min.   : 0.352  \n",
              " 1st Qu.: 6.093   1st Qu.:176.85   1st Qu.:15666.7   1st Qu.: 6.127  \n",
              " Median : 7.037   Median :196.97   Median :20927.8   Median : 7.130  \n",
              " Mean   : 7.081   Mean   :196.37   Mean   :22014.1   Mean   : 7.122  \n",
              " 3rd Qu.: 8.062   3rd Qu.:216.67   3rd Qu.:27332.8   3rd Qu.: 8.115  \n",
              " Max.   :14.000   Max.   :323.12   Max.   :61227.2   Max.   :13.127  \n",
              " NA's   :491                                                         \n",
              "    Sulfate       Conductivity   Organic_carbon  Trihalomethanes  \n",
              " Min.   :129.0   Min.   :181.5   Min.   : 2.20   Min.   :  0.738  \n",
              " 1st Qu.:307.7   1st Qu.:365.7   1st Qu.:12.07   1st Qu.: 55.845  \n",
              " Median :333.1   Median :421.9   Median :14.22   Median : 66.622  \n",
              " Mean   :333.8   Mean   :426.2   Mean   :14.28   Mean   : 66.396  \n",
              " 3rd Qu.:360.0   3rd Qu.:481.8   3rd Qu.:16.56   3rd Qu.: 77.337  \n",
              " Max.   :481.0   Max.   :753.3   Max.   :28.30   Max.   :124.000  \n",
              " NA's   :781                                     NA's   :162      \n",
              "   Turbidity       Potability    \n",
              " Min.   :1.450   Min.   :0.0000  \n",
              " 1st Qu.:3.440   1st Qu.:0.0000  \n",
              " Median :3.955   Median :0.0000  \n",
              " Mean   :3.967   Mean   :0.3901  \n",
              " 3rd Qu.:4.500   3rd Qu.:1.0000  \n",
              " Max.   :6.739   Max.   :1.0000  \n",
              "                                 "
            ]
          },
          "metadata": {}
        },
        {
          "output_type": "display_data",
          "data": {
            "text/html": [
              "<style>\n",
              ".dl-inline {width: auto; margin:0; padding: 0}\n",
              ".dl-inline>dt, .dl-inline>dd {float: none; width: auto; display: inline-block}\n",
              ".dl-inline>dt::after {content: \":\\0020\"; padding-right: .5ex}\n",
              ".dl-inline>dt:not(:first-of-type) {padding-left: .5ex}\n",
              "</style><dl class=dl-inline><dt>ph</dt><dd>491</dd><dt>Hardness</dt><dd>0</dd><dt>Solids</dt><dd>0</dd><dt>Chloramines</dt><dd>0</dd><dt>Sulfate</dt><dd>781</dd><dt>Conductivity</dt><dd>0</dd><dt>Organic_carbon</dt><dd>0</dd><dt>Trihalomethanes</dt><dd>162</dd><dt>Turbidity</dt><dd>0</dd><dt>Potability</dt><dd>0</dd></dl>\n"
            ],
            "text/markdown": "ph\n:   491Hardness\n:   0Solids\n:   0Chloramines\n:   0Sulfate\n:   781Conductivity\n:   0Organic_carbon\n:   0Trihalomethanes\n:   162Turbidity\n:   0Potability\n:   0\n\n",
            "text/latex": "\\begin{description*}\n\\item[ph] 491\n\\item[Hardness] 0\n\\item[Solids] 0\n\\item[Chloramines] 0\n\\item[Sulfate] 781\n\\item[Conductivity] 0\n\\item[Organic\\textbackslash{}\\_carbon] 0\n\\item[Trihalomethanes] 162\n\\item[Turbidity] 0\n\\item[Potability] 0\n\\end{description*}\n",
            "text/plain": [
              "             ph        Hardness          Solids     Chloramines         Sulfate \n",
              "            491               0               0               0             781 \n",
              "   Conductivity  Organic_carbon Trihalomethanes       Turbidity      Potability \n",
              "              0               0             162               0               0 "
            ]
          },
          "metadata": {}
        },
        {
          "output_type": "display_data",
          "data": {
            "text/html": [
              "<style>\n",
              ".list-inline {list-style: none; margin:0; padding: 0}\n",
              ".list-inline>li {display: inline-block}\n",
              ".list-inline>li:not(:last-child)::after {content: \"\\00b7\"; padding: 0 .5ex}\n",
              "</style>\n",
              "<ol class=list-inline><li>3276</li><li>10</li></ol>\n"
            ],
            "text/markdown": "1. 3276\n2. 10\n\n\n",
            "text/latex": "\\begin{enumerate*}\n\\item 3276\n\\item 10\n\\end{enumerate*}\n",
            "text/plain": [
              "[1] 3276   10"
            ]
          },
          "metadata": {}
        }
      ]
    },
    {
      "cell_type": "markdown",
      "source": [
        "El análisis inicial del conjunto de datos indica presencia de valores faltantes en las variables pH, Sulfate y Trihalomethanes, con 491, 781 y 162 valores faltantes respectivamente. Hay que hacer un manejo adecuado de estos datos antes de proceder con el modelado, ya que representan una proporción significativa del total de observaciones en algunos casos. Las demás variables, como Hardness, Solids, Chloramines, Conductivity, Organic_carbon y Turbidity, no presentan valores faltantes, . La variable objetivo, Potability, está completamente definida y no contiene valores faltantes. A partir de estos hallazgos, se deben tomar decisiones , ya sea imputándolos utilizando métodos estadísticos como la media o la mediana, o eliminando las filas afectadas si su proporción no compromete la integridad del conjunto de datos."
      ],
      "metadata": {
        "id": "wzO9GOa64aRn"
      }
    },
    {
      "cell_type": "code",
      "source": [
        "# Resumen estadístico general\n",
        "summary(water_data)\n",
        "\n",
        "# Verificar la presencia de valores faltantes en todas las columnas\n",
        "colSums(is.na(water_data))\n",
        "\n",
        "# Verificar los tipos de datos de cada columna\n",
        "str(water_data)\n"
      ],
      "metadata": {
        "colab": {
          "base_uri": "https://localhost:8080/",
          "height": 885
        },
        "id": "Z-KgL09Q7s2J",
        "outputId": "1f7e3f3b-a413-49f1-9196-b901f736245c"
      },
      "execution_count": 11,
      "outputs": [
        {
          "output_type": "display_data",
          "data": {
            "text/plain": [
              "       ph            Hardness          Solids         Chloramines    \n",
              " Min.   : 0.000   Min.   : 47.43   Min.   :  320.9   Min.   : 0.352  \n",
              " 1st Qu.: 6.093   1st Qu.:176.85   1st Qu.:15666.7   1st Qu.: 6.127  \n",
              " Median : 7.037   Median :196.97   Median :20927.8   Median : 7.130  \n",
              " Mean   : 7.081   Mean   :196.37   Mean   :22014.1   Mean   : 7.122  \n",
              " 3rd Qu.: 8.062   3rd Qu.:216.67   3rd Qu.:27332.8   3rd Qu.: 8.115  \n",
              " Max.   :14.000   Max.   :323.12   Max.   :61227.2   Max.   :13.127  \n",
              " NA's   :491                                                         \n",
              "    Sulfate       Conductivity   Organic_carbon  Trihalomethanes  \n",
              " Min.   :129.0   Min.   :181.5   Min.   : 2.20   Min.   :  0.738  \n",
              " 1st Qu.:317.1   1st Qu.:365.7   1st Qu.:12.07   1st Qu.: 56.648  \n",
              " Median :333.1   Median :421.9   Median :14.22   Median : 66.622  \n",
              " Mean   :333.6   Mean   :426.2   Mean   :14.28   Mean   : 66.407  \n",
              " 3rd Qu.:350.4   3rd Qu.:481.8   3rd Qu.:16.56   3rd Qu.: 76.667  \n",
              " Max.   :481.0   Max.   :753.3   Max.   :28.30   Max.   :124.000  \n",
              "                                                                  \n",
              "   Turbidity       Potability    \n",
              " Min.   :1.450   Min.   :0.0000  \n",
              " 1st Qu.:3.440   1st Qu.:0.0000  \n",
              " Median :3.955   Median :0.0000  \n",
              " Mean   :3.967   Mean   :0.3901  \n",
              " 3rd Qu.:4.500   3rd Qu.:1.0000  \n",
              " Max.   :6.739   Max.   :1.0000  \n",
              "                                 "
            ]
          },
          "metadata": {}
        },
        {
          "output_type": "display_data",
          "data": {
            "text/html": [
              "<style>\n",
              ".dl-inline {width: auto; margin:0; padding: 0}\n",
              ".dl-inline>dt, .dl-inline>dd {float: none; width: auto; display: inline-block}\n",
              ".dl-inline>dt::after {content: \":\\0020\"; padding-right: .5ex}\n",
              ".dl-inline>dt:not(:first-of-type) {padding-left: .5ex}\n",
              "</style><dl class=dl-inline><dt>ph</dt><dd>491</dd><dt>Hardness</dt><dd>0</dd><dt>Solids</dt><dd>0</dd><dt>Chloramines</dt><dd>0</dd><dt>Sulfate</dt><dd>0</dd><dt>Conductivity</dt><dd>0</dd><dt>Organic_carbon</dt><dd>0</dd><dt>Trihalomethanes</dt><dd>0</dd><dt>Turbidity</dt><dd>0</dd><dt>Potability</dt><dd>0</dd></dl>\n"
            ],
            "text/markdown": "ph\n:   491Hardness\n:   0Solids\n:   0Chloramines\n:   0Sulfate\n:   0Conductivity\n:   0Organic_carbon\n:   0Trihalomethanes\n:   0Turbidity\n:   0Potability\n:   0\n\n",
            "text/latex": "\\begin{description*}\n\\item[ph] 491\n\\item[Hardness] 0\n\\item[Solids] 0\n\\item[Chloramines] 0\n\\item[Sulfate] 0\n\\item[Conductivity] 0\n\\item[Organic\\textbackslash{}\\_carbon] 0\n\\item[Trihalomethanes] 0\n\\item[Turbidity] 0\n\\item[Potability] 0\n\\end{description*}\n",
            "text/plain": [
              "             ph        Hardness          Solids     Chloramines         Sulfate \n",
              "            491               0               0               0               0 \n",
              "   Conductivity  Organic_carbon Trihalomethanes       Turbidity      Potability \n",
              "              0               0               0               0               0 "
            ]
          },
          "metadata": {}
        },
        {
          "output_type": "stream",
          "name": "stdout",
          "text": [
            "spc_tbl_ [3,276 × 10] (S3: spec_tbl_df/tbl_df/tbl/data.frame)\n",
            " $ ph             : num [1:3276] NA 3.72 8.1 8.32 9.09 ...\n",
            " $ Hardness       : num [1:3276] 205 129 224 214 181 ...\n",
            " $ Solids         : num [1:3276] 20791 18630 19910 22018 17979 ...\n",
            " $ Chloramines    : num [1:3276] 7.3 6.64 9.28 8.06 6.55 ...\n",
            " $ Sulfate        : num [1:3276] 369 333 333 357 310 ...\n",
            " $ Conductivity   : num [1:3276] 564 593 419 363 398 ...\n",
            " $ Organic_carbon : num [1:3276] 10.4 15.2 16.9 18.4 11.6 ...\n",
            " $ Trihalomethanes: num [1:3276] 87 56.3 66.4 100.3 32 ...\n",
            " $ Turbidity      : num [1:3276] 2.96 4.5 3.06 4.63 4.08 ...\n",
            " $ Potability     : num [1:3276] 0 0 0 0 0 0 0 0 0 0 ...\n",
            " - attr(*, \"spec\")=\n",
            "  .. cols(\n",
            "  ..   ph = \u001b[32mcol_double()\u001b[39m,\n",
            "  ..   Hardness = \u001b[32mcol_double()\u001b[39m,\n",
            "  ..   Solids = \u001b[32mcol_double()\u001b[39m,\n",
            "  ..   Chloramines = \u001b[32mcol_double()\u001b[39m,\n",
            "  ..   Sulfate = \u001b[32mcol_double()\u001b[39m,\n",
            "  ..   Conductivity = \u001b[32mcol_double()\u001b[39m,\n",
            "  ..   Organic_carbon = \u001b[32mcol_double()\u001b[39m,\n",
            "  ..   Trihalomethanes = \u001b[32mcol_double()\u001b[39m,\n",
            "  ..   Turbidity = \u001b[32mcol_double()\u001b[39m,\n",
            "  ..   Potability = \u001b[32mcol_double()\u001b[39m\n",
            "  .. )\n",
            " - attr(*, \"problems\")=<externalptr> \n"
          ]
        }
      ]
    },
    {
      "cell_type": "code",
      "source": [
        "# Imputar valores faltantes en pH con la mediana\n",
        "water_data$pH[is.na(water_data$pH)] <- median(water_data$pH, na.rm = TRUE)\n",
        "\n",
        "# Verificar que ya no hay valores faltantes\n",
        "colSums(is.na(water_data))\n",
        "\n",
        "# Generar un histograma para visualizar la distribución de pH\n",
        "hist(water_data$pH, main = \"Distribución del pH\", xlab = \"pH\", col = \"lightblue\", border = \"black\")\n"
      ],
      "metadata": {
        "colab": {
          "base_uri": "https://localhost:8080/",
          "height": 488
        },
        "id": "oStFnUJu8AZW",
        "outputId": "bda1437f-a8a0-48f0-ac55-7f0ee77716ab"
      },
      "execution_count": 12,
      "outputs": [
        {
          "output_type": "stream",
          "name": "stderr",
          "text": [
            "Warning message:\n",
            "“Unknown or uninitialised column: `pH`.”\n",
            "Warning message:\n",
            "“Unknown or uninitialised column: `pH`.”\n",
            "Warning message:\n",
            "“Unknown or uninitialised column: `pH`.”\n"
          ]
        },
        {
          "output_type": "display_data",
          "data": {
            "text/html": [
              "<style>\n",
              ".dl-inline {width: auto; margin:0; padding: 0}\n",
              ".dl-inline>dt, .dl-inline>dd {float: none; width: auto; display: inline-block}\n",
              ".dl-inline>dt::after {content: \":\\0020\"; padding-right: .5ex}\n",
              ".dl-inline>dt:not(:first-of-type) {padding-left: .5ex}\n",
              "</style><dl class=dl-inline><dt>ph</dt><dd>491</dd><dt>Hardness</dt><dd>0</dd><dt>Solids</dt><dd>0</dd><dt>Chloramines</dt><dd>0</dd><dt>Sulfate</dt><dd>0</dd><dt>Conductivity</dt><dd>0</dd><dt>Organic_carbon</dt><dd>0</dd><dt>Trihalomethanes</dt><dd>0</dd><dt>Turbidity</dt><dd>0</dd><dt>Potability</dt><dd>0</dd></dl>\n"
            ],
            "text/markdown": "ph\n:   491Hardness\n:   0Solids\n:   0Chloramines\n:   0Sulfate\n:   0Conductivity\n:   0Organic_carbon\n:   0Trihalomethanes\n:   0Turbidity\n:   0Potability\n:   0\n\n",
            "text/latex": "\\begin{description*}\n\\item[ph] 491\n\\item[Hardness] 0\n\\item[Solids] 0\n\\item[Chloramines] 0\n\\item[Sulfate] 0\n\\item[Conductivity] 0\n\\item[Organic\\textbackslash{}\\_carbon] 0\n\\item[Trihalomethanes] 0\n\\item[Turbidity] 0\n\\item[Potability] 0\n\\end{description*}\n",
            "text/plain": [
              "             ph        Hardness          Solids     Chloramines         Sulfate \n",
              "            491               0               0               0               0 \n",
              "   Conductivity  Organic_carbon Trihalomethanes       Turbidity      Potability \n",
              "              0               0               0               0               0 "
            ]
          },
          "metadata": {}
        },
        {
          "output_type": "stream",
          "name": "stderr",
          "text": [
            "Warning message:\n",
            "“Unknown or uninitialised column: `pH`.”\n"
          ]
        },
        {
          "output_type": "error",
          "ename": "ERROR",
          "evalue": "Error in hist.default(water_data$pH, main = \"Distribución del pH\", xlab = \"pH\", : 'x' must be numeric\n",
          "traceback": [
            "Error in hist.default(water_data$pH, main = \"Distribución del pH\", xlab = \"pH\", : 'x' must be numeric\nTraceback:\n",
            "1. hist.default(water_data$pH, main = \"Distribución del pH\", xlab = \"pH\", \n .     col = \"lightblue\", border = \"black\")",
            "2. stop(\"'x' must be numeric\")",
            "3. .handleSimpleError(function (cnd) \n . {\n .     watcher$capture_plot_and_output()\n .     cnd <- sanitize_call(cnd)\n .     watcher$push(cnd)\n .     switch(on_error, continue = invokeRestart(\"eval_continue\"), \n .         stop = invokeRestart(\"eval_stop\"), error = invokeRestart(\"eval_error\", \n .             cnd))\n . }, \"'x' must be numeric\", base::quote(hist.default(water_data$pH, \n .     main = \"Distribución del pH\", xlab = \"pH\", col = \"lightblue\", \n .     border = \"black\")))"
          ]
        }
      ]
    },
    {
      "cell_type": "markdown",
      "source": [
        "Normalización de variables"
      ],
      "metadata": {
        "id": "Ac8tYlHd8YcN"
      }
    },
    {
      "cell_type": "code",
      "source": [
        "# Normalizar todas las variables numéricas excepto la variable objetivo\n",
        "normalize <- function(x) {\n",
        "  return((x - min(x, na.rm = TRUE)) / (max(x, na.rm = TRUE) - min(x, na.rm = TRUE)))\n",
        "}\n",
        "\n",
        "# Aplicar normalización\n",
        "water_data_norm <- water_data\n",
        "water_data_norm[ , -which(names(water_data) == \"Potability\")] <- lapply(water_data_norm[ , -which(names(water_data) == \"Potability\")], normalize)\n",
        "\n",
        "# Verificar el resultado\n",
        "summary(water_data_norm)\n"
      ],
      "metadata": {
        "colab": {
          "base_uri": "https://localhost:8080/",
          "height": 434
        },
        "id": "Gw6S4dWc8biU",
        "outputId": "f9396d3a-0db2-4325-bd34-2c1c46249ee1"
      },
      "execution_count": 14,
      "outputs": [
        {
          "output_type": "display_data",
          "data": {
            "text/plain": [
              "       ph            Hardness          Solids        Chloramines    \n",
              " Min.   :0.0000   Min.   :0.0000   Min.   :0.0000   Min.   :0.0000  \n",
              " 1st Qu.:0.4352   1st Qu.:0.4694   1st Qu.:0.2520   1st Qu.:0.4521  \n",
              " Median :0.5026   Median :0.5424   Median :0.3383   Median :0.5306  \n",
              " Mean   :0.5058   Mean   :0.5402   Mean   :0.3562   Mean   :0.5300  \n",
              " 3rd Qu.:0.5759   3rd Qu.:0.6139   3rd Qu.:0.4435   3rd Qu.:0.6077  \n",
              " Max.   :1.0000   Max.   :1.0000   Max.   :1.0000   Max.   :1.0000  \n",
              " NA's   :491                                                        \n",
              "    Sulfate        Conductivity    Organic_carbon   Trihalomethanes \n",
              " Min.   :0.0000   Min.   :0.0000   Min.   :0.0000   Min.   :0.0000  \n",
              " 1st Qu.:0.5343   1st Qu.:0.3222   1st Qu.:0.3780   1st Qu.:0.4536  \n",
              " Median :0.5797   Median :0.4204   Median :0.4605   Median :0.5345  \n",
              " Mean   :0.5812   Mean   :0.4279   Mean   :0.4630   Mean   :0.5328  \n",
              " 3rd Qu.:0.6289   3rd Qu.:0.5251   3rd Qu.:0.5501   3rd Qu.:0.6160  \n",
              " Max.   :1.0000   Max.   :1.0000   Max.   :1.0000   Max.   :1.0000  \n",
              "                                                                    \n",
              "   Turbidity        Potability    \n",
              " Min.   :0.0000   Min.   :0.0000  \n",
              " 1st Qu.:0.3762   1st Qu.:0.0000  \n",
              " Median :0.4736   Median :0.0000  \n",
              " Mean   :0.4759   Mean   :0.3901  \n",
              " 3rd Qu.:0.5767   3rd Qu.:1.0000  \n",
              " Max.   :1.0000   Max.   :1.0000  \n",
              "                                  "
            ]
          },
          "metadata": {}
        }
      ]
    },
    {
      "cell_type": "markdown",
      "source": [
        "Evaluación de datos atípicos usando boxplots"
      ],
      "metadata": {
        "id": "Jcg-YWpg8tjG"
      }
    },
    {
      "cell_type": "code",
      "source": [
        "# Crear boxplots para todas las variables numéricas excepto la variable objetivo\n",
        "par(mfrow = c(3, 3))  # Ajustar el layout para múltiples gráficos\n",
        "numeric_columns <- setdiff(names(water_data_norm), \"Potability\")\n",
        "\n",
        "for (col in numeric_columns) {\n",
        "  boxplot(water_data_norm[[col]], main = paste(\"Boxplot de\", col), col = \"lightblue\", border = \"black\")\n",
        "}\n"
      ],
      "metadata": {
        "colab": {
          "base_uri": "https://localhost:8080/",
          "height": 437
        },
        "id": "L0VkRvRq8-Le",
        "outputId": "1cad0905-7be3-4e07-80db-f4b7c7a11498"
      },
      "execution_count": 15,
      "outputs": [
        {
          "output_type": "display_data",
          "data": {
            "text/plain": [
              "Plot with title “Boxplot de Turbidity”"
            ],
            "image/png": "[encoded data removed]"
          },
          "metadata": {
            "image/png": {
              "width": 420,
              "height": 420
            }
          }
        }
      ]
    },
    {
      "cell_type": "markdown",
      "source": [
        "Eliminar datos atípicos"
      ],
      "metadata": {
        "id": "00PTBkDy9GPn"
      }
    },
    {
      "cell_type": "code",
      "source": [
        "# Función para eliminar outliers basada en el rango intercuartil\n",
        "remove_outliers <- function(df, col_name) {\n",
        "  Q1 <- quantile(df[[col_name]], 0.25, na.rm = TRUE)\n",
        "  Q3 <- quantile(df[[col_name]], 0.75, na.rm = TRUE)\n",
        "  IQR <- Q3 - Q1\n",
        "  lower_bound <- Q1 - 1.5 * IQR\n",
        "  upper_bound <- Q3 + 1.5 * IQR\n",
        "  df <- df[df[[col_name]] >= lower_bound & df[[col_name]] <= upper_bound, ]\n",
        "  return(df)\n",
        "}\n",
        "\n",
        "# Aplicar la función a todas las columnas numéricas\n",
        "for (col in numeric_columns) {\n",
        "  water_data_norm <- remove_outliers(water_data_norm, col)\n",
        "}\n",
        "\n",
        "# Verificar el nuevo tamaño del conjunto de datos\n",
        "dim(water_data_norm)\n"
      ],
      "metadata": {
        "colab": {
          "base_uri": "https://localhost:8080/",
          "height": 34
        },
        "id": "AuiUURKp9I1-",
        "outputId": "95a748af-f507-47e8-e5bd-462bc0217057"
      },
      "execution_count": 16,
      "outputs": [
        {
          "output_type": "display_data",
          "data": {
            "text/html": [
              "<style>\n",
              ".list-inline {list-style: none; margin:0; padding: 0}\n",
              ".list-inline>li {display: inline-block}\n",
              ".list-inline>li:not(:last-child)::after {content: \"\\00b7\"; padding: 0 .5ex}\n",
              "</style>\n",
              "<ol class=list-inline><li>2809</li><li>10</li></ol>\n"
            ],
            "text/markdown": "1. 2809\n2. 10\n\n\n",
            "text/latex": "\\begin{enumerate*}\n\\item 2809\n\\item 10\n\\end{enumerate*}\n",
            "text/plain": [
              "[1] 2809   10"
            ]
          },
          "metadata": {}
        }
      ]
    },
    {
      "cell_type": "markdown",
      "source": [
        "Ajuste del primer modelo"
      ],
      "metadata": {
        "id": "r3q11GhW9ljA"
      }
    },
    {
      "cell_type": "markdown",
      "source": [
        "El modelo Random Forest es una elección  para este análisis debido a su robustez frente a valores atípicos y datos tratados, su capacidad para manejar variables interrelacionadas y como modelo no paramétrico, que no requiere suposiciones sobre la distribución de los datos. Además, permite identificar la importancia de las variables en la predicción, lo que aporta información valiosa sobre el problema. Estas características hacen de Random Forest un  punto de partida para evaluar la potabilidad del agua."
      ],
      "metadata": {
        "id": "mMzDE2ie9yzn"
      }
    },
    {
      "cell_type": "markdown",
      "source": [
        "Dividir datos para ver configuración"
      ],
      "metadata": {
        "id": "DoRVJmquCIrf"
      }
    },
    {
      "cell_type": "code",
      "source": [
        "# Dividir los datos en entrenamiento y prueba\n",
        "set.seed(123)  # Para reproducibilidad\n",
        "train_index <- sample(1:nrow(water_data_norm), 0.7 * nrow(water_data_norm))\n",
        "\n",
        "train_data <- water_data_norm[train_index, ]\n",
        "test_data <- water_data_norm[-train_index, ]\n",
        "\n",
        "# Confirmar las dimensiones de los conjuntos\n",
        "cat(\"Conjunto de entrenamiento:\", dim(train_data)[1], \"filas\\n\")\n",
        "cat(\"Conjunto de prueba:\", dim(test_data)[1], \"filas\\n\")\n"
      ],
      "metadata": {
        "colab": {
          "base_uri": "https://localhost:8080/"
        },
        "id": "4uEYp000-Vdf",
        "outputId": "4e4f5ae3-1f94-4dbb-da84-b57c8a606658"
      },
      "execution_count": 18,
      "outputs": [
        {
          "output_type": "stream",
          "name": "stdout",
          "text": [
            "Conjunto de entrenamiento: 1966 filas\n",
            "Conjunto de prueba: 843 filas\n"
          ]
        }
      ]
    },
    {
      "cell_type": "code",
      "source": [
        "# Verificar las primeras filas de train_data\n",
        "head(train_data)\n",
        "\n",
        "# Verificar el resumen de las columnas\n",
        "str(train_data)\n"
      ],
      "metadata": {
        "colab": {
          "base_uri": "https://localhost:8080/",
          "height": 477
        },
        "id": "KMPrh_r6-yeB",
        "outputId": "4e99280f-7fd2-455b-aab1-a016cec03dab"
      },
      "execution_count": 21,
      "outputs": [
        {
          "output_type": "display_data",
          "data": {
            "text/html": [
              "<table class=\"dataframe\">\n",
              "<caption>A tibble: 6 × 10</caption>\n",
              "<thead>\n",
              "\t<tr><th scope=col>ph</th><th scope=col>Hardness</th><th scope=col>Solids</th><th scope=col>Chloramines</th><th scope=col>Sulfate</th><th scope=col>Conductivity</th><th scope=col>Organic_carbon</th><th scope=col>Trihalomethanes</th><th scope=col>Turbidity</th><th scope=col>Potability</th></tr>\n",
              "\t<tr><th scope=col>&lt;dbl&gt;</th><th scope=col>&lt;dbl&gt;</th><th scope=col>&lt;dbl&gt;</th><th scope=col>&lt;dbl&gt;</th><th scope=col>&lt;dbl&gt;</th><th scope=col>&lt;dbl&gt;</th><th scope=col>&lt;dbl&gt;</th><th scope=col>&lt;dbl&gt;</th><th scope=col>&lt;dbl&gt;</th><th scope=col>&lt;dbl&gt;</th></tr>\n",
              "</thead>\n",
              "<tbody>\n",
              "\t<tr><td>0.5956741</td><td>0.4648838</td><td>0.2020960</td><td>0.5185373</td><td>0.5797039</td><td>0.4736374</td><td>0.5873119</td><td>0.8203128</td><td>0.5074109</td><td> 0</td></tr>\n",
              "\t<tr><td>       NA</td><td>       NA</td><td>       NA</td><td>       NA</td><td>       NA</td><td>       NA</td><td>       NA</td><td>       NA</td><td>       NA</td><td>NA</td></tr>\n",
              "\t<tr><td>0.4685448</td><td>0.3797107</td><td>0.3661872</td><td>0.5799693</td><td>0.7343645</td><td>0.3713096</td><td>0.3029679</td><td>0.4425425</td><td>0.4186922</td><td> 0</td></tr>\n",
              "\t<tr><td>0.4483068</td><td>0.4988177</td><td>0.4651826</td><td>0.4827738</td><td>0.5859086</td><td>0.5052749</td><td>0.3447695</td><td>0.5345077</td><td>0.5469388</td><td> 0</td></tr>\n",
              "\t<tr><td>0.3639833</td><td>0.8196700</td><td>0.4266615</td><td>0.7724308</td><td>0.7135785</td><td>0.5812515</td><td>0.6158015</td><td>0.4923430</td><td>0.5487225</td><td> 0</td></tr>\n",
              "\t<tr><td>       NA</td><td>       NA</td><td>       NA</td><td>       NA</td><td>       NA</td><td>       NA</td><td>       NA</td><td>       NA</td><td>       NA</td><td>NA</td></tr>\n",
              "</tbody>\n",
              "</table>\n"
            ],
            "text/markdown": "\nA tibble: 6 × 10\n\n| ph &lt;dbl&gt; | Hardness &lt;dbl&gt; | Solids &lt;dbl&gt; | Chloramines &lt;dbl&gt; | Sulfate &lt;dbl&gt; | Conductivity &lt;dbl&gt; | Organic_carbon &lt;dbl&gt; | Trihalomethanes &lt;dbl&gt; | Turbidity &lt;dbl&gt; | Potability &lt;dbl&gt; |\n|---|---|---|---|---|---|---|---|---|---|\n| 0.5956741 | 0.4648838 | 0.2020960 | 0.5185373 | 0.5797039 | 0.4736374 | 0.5873119 | 0.8203128 | 0.5074109 |  0 |\n|        NA |        NA |        NA |        NA |        NA |        NA |        NA |        NA |        NA | NA |\n| 0.4685448 | 0.3797107 | 0.3661872 | 0.5799693 | 0.7343645 | 0.3713096 | 0.3029679 | 0.4425425 | 0.4186922 |  0 |\n| 0.4483068 | 0.4988177 | 0.4651826 | 0.4827738 | 0.5859086 | 0.5052749 | 0.3447695 | 0.5345077 | 0.5469388 |  0 |\n| 0.3639833 | 0.8196700 | 0.4266615 | 0.7724308 | 0.7135785 | 0.5812515 | 0.6158015 | 0.4923430 | 0.5487225 |  0 |\n|        NA |        NA |        NA |        NA |        NA |        NA |        NA |        NA |        NA | NA |\n\n",
            "text/latex": "A tibble: 6 × 10\n\\begin{tabular}{llllllllll}\n ph & Hardness & Solids & Chloramines & Sulfate & Conductivity & Organic\\_carbon & Trihalomethanes & Turbidity & Potability\\\\\n <dbl> & <dbl> & <dbl> & <dbl> & <dbl> & <dbl> & <dbl> & <dbl> & <dbl> & <dbl>\\\\\n\\hline\n\t 0.5956741 & 0.4648838 & 0.2020960 & 0.5185373 & 0.5797039 & 0.4736374 & 0.5873119 & 0.8203128 & 0.5074109 &  0\\\\\n\t        NA &        NA &        NA &        NA &        NA &        NA &        NA &        NA &        NA & NA\\\\\n\t 0.4685448 & 0.3797107 & 0.3661872 & 0.5799693 & 0.7343645 & 0.3713096 & 0.3029679 & 0.4425425 & 0.4186922 &  0\\\\\n\t 0.4483068 & 0.4988177 & 0.4651826 & 0.4827738 & 0.5859086 & 0.5052749 & 0.3447695 & 0.5345077 & 0.5469388 &  0\\\\\n\t 0.3639833 & 0.8196700 & 0.4266615 & 0.7724308 & 0.7135785 & 0.5812515 & 0.6158015 & 0.4923430 & 0.5487225 &  0\\\\\n\t        NA &        NA &        NA &        NA &        NA &        NA &        NA &        NA &        NA & NA\\\\\n\\end{tabular}\n",
            "text/plain": [
              "  ph        Hardness  Solids    Chloramines Sulfate   Conductivity\n",
              "1 0.5956741 0.4648838 0.2020960 0.5185373   0.5797039 0.4736374   \n",
              "2        NA        NA        NA        NA          NA        NA   \n",
              "3 0.4685448 0.3797107 0.3661872 0.5799693   0.7343645 0.3713096   \n",
              "4 0.4483068 0.4988177 0.4651826 0.4827738   0.5859086 0.5052749   \n",
              "5 0.3639833 0.8196700 0.4266615 0.7724308   0.7135785 0.5812515   \n",
              "6        NA        NA        NA        NA          NA        NA   \n",
              "  Organic_carbon Trihalomethanes Turbidity Potability\n",
              "1 0.5873119      0.8203128       0.5074109  0        \n",
              "2        NA             NA              NA NA        \n",
              "3 0.3029679      0.4425425       0.4186922  0        \n",
              "4 0.3447695      0.5345077       0.5469388  0        \n",
              "5 0.6158015      0.4923430       0.5487225  0        \n",
              "6        NA             NA              NA NA        "
            ]
          },
          "metadata": {}
        },
        {
          "output_type": "stream",
          "name": "stdout",
          "text": [
            "tibble [1,966 × 10] (S3: tbl_df/tbl/data.frame)\n",
            " $ ph             : num [1:1966] 0.596 NA 0.469 0.448 0.364 ...\n",
            " $ Hardness       : num [1:1966] 0.465 NA 0.38 0.499 0.82 ...\n",
            " $ Solids         : num [1:1966] 0.202 NA 0.366 0.465 0.427 ...\n",
            " $ Chloramines    : num [1:1966] 0.519 NA 0.58 0.483 0.772 ...\n",
            " $ Sulfate        : num [1:1966] 0.58 NA 0.734 0.586 0.714 ...\n",
            " $ Conductivity   : num [1:1966] 0.474 NA 0.371 0.505 0.581 ...\n",
            " $ Organic_carbon : num [1:1966] 0.587 NA 0.303 0.345 0.616 ...\n",
            " $ Trihalomethanes: num [1:1966] 0.82 NA 0.443 0.535 0.492 ...\n",
            " $ Turbidity      : num [1:1966] 0.507 NA 0.419 0.547 0.549 ...\n",
            " $ Potability     : num [1:1966] 0 NA 0 0 0 NA 0 0 NA NA ...\n"
          ]
        }
      ]
    },
    {
      "cell_type": "markdown",
      "source": [
        "Hay datos faltantes"
      ],
      "metadata": {
        "id": "j_DSayB1_AMP"
      }
    },
    {
      "cell_type": "code",
      "source": [
        "# Imputar valores faltantes en train_data con la mediana\n",
        "for (col in names(train_data)) {\n",
        "  train_data[[col]][is.na(train_data[[col]])] <- median(train_data[[col]], na.rm = TRUE)\n",
        "}\n",
        "\n",
        "# Repetir para test_data\n",
        "for (col in names(test_data)) {\n",
        "  test_data[[col]][is.na(test_data[[col]])] <- median(test_data[[col]], na.rm = TRUE)\n",
        "}\n",
        "\n",
        "# Verificar que ya no haya valores faltantes\n",
        "colSums(is.na(train_data))\n",
        "colSums(is.na(test_data))\n"
      ],
      "metadata": {
        "colab": {
          "base_uri": "https://localhost:8080/",
          "height": 52
        },
        "id": "o4Z4DcXT_CAv",
        "outputId": "452b79c3-d41f-4268-f7bd-2e94cdc083bd"
      },
      "execution_count": 22,
      "outputs": [
        {
          "output_type": "display_data",
          "data": {
            "text/html": [
              "<style>\n",
              ".dl-inline {width: auto; margin:0; padding: 0}\n",
              ".dl-inline>dt, .dl-inline>dd {float: none; width: auto; display: inline-block}\n",
              ".dl-inline>dt::after {content: \":\\0020\"; padding-right: .5ex}\n",
              ".dl-inline>dt:not(:first-of-type) {padding-left: .5ex}\n",
              "</style><dl class=dl-inline><dt>ph</dt><dd>0</dd><dt>Hardness</dt><dd>0</dd><dt>Solids</dt><dd>0</dd><dt>Chloramines</dt><dd>0</dd><dt>Sulfate</dt><dd>0</dd><dt>Conductivity</dt><dd>0</dd><dt>Organic_carbon</dt><dd>0</dd><dt>Trihalomethanes</dt><dd>0</dd><dt>Turbidity</dt><dd>0</dd><dt>Potability</dt><dd>0</dd></dl>\n"
            ],
            "text/markdown": "ph\n:   0Hardness\n:   0Solids\n:   0Chloramines\n:   0Sulfate\n:   0Conductivity\n:   0Organic_carbon\n:   0Trihalomethanes\n:   0Turbidity\n:   0Potability\n:   0\n\n",
            "text/latex": "\\begin{description*}\n\\item[ph] 0\n\\item[Hardness] 0\n\\item[Solids] 0\n\\item[Chloramines] 0\n\\item[Sulfate] 0\n\\item[Conductivity] 0\n\\item[Organic\\textbackslash{}\\_carbon] 0\n\\item[Trihalomethanes] 0\n\\item[Turbidity] 0\n\\item[Potability] 0\n\\end{description*}\n",
            "text/plain": [
              "             ph        Hardness          Solids     Chloramines         Sulfate \n",
              "              0               0               0               0               0 \n",
              "   Conductivity  Organic_carbon Trihalomethanes       Turbidity      Potability \n",
              "              0               0               0               0               0 "
            ]
          },
          "metadata": {}
        },
        {
          "output_type": "display_data",
          "data": {
            "text/html": [
              "<style>\n",
              ".dl-inline {width: auto; margin:0; padding: 0}\n",
              ".dl-inline>dt, .dl-inline>dd {float: none; width: auto; display: inline-block}\n",
              ".dl-inline>dt::after {content: \":\\0020\"; padding-right: .5ex}\n",
              ".dl-inline>dt:not(:first-of-type) {padding-left: .5ex}\n",
              "</style><dl class=dl-inline><dt>ph</dt><dd>0</dd><dt>Hardness</dt><dd>0</dd><dt>Solids</dt><dd>0</dd><dt>Chloramines</dt><dd>0</dd><dt>Sulfate</dt><dd>0</dd><dt>Conductivity</dt><dd>0</dd><dt>Organic_carbon</dt><dd>0</dd><dt>Trihalomethanes</dt><dd>0</dd><dt>Turbidity</dt><dd>0</dd><dt>Potability</dt><dd>0</dd></dl>\n"
            ],
            "text/markdown": "ph\n:   0Hardness\n:   0Solids\n:   0Chloramines\n:   0Sulfate\n:   0Conductivity\n:   0Organic_carbon\n:   0Trihalomethanes\n:   0Turbidity\n:   0Potability\n:   0\n\n",
            "text/latex": "\\begin{description*}\n\\item[ph] 0\n\\item[Hardness] 0\n\\item[Solids] 0\n\\item[Chloramines] 0\n\\item[Sulfate] 0\n\\item[Conductivity] 0\n\\item[Organic\\textbackslash{}\\_carbon] 0\n\\item[Trihalomethanes] 0\n\\item[Turbidity] 0\n\\item[Potability] 0\n\\end{description*}\n",
            "text/plain": [
              "             ph        Hardness          Solids     Chloramines         Sulfate \n",
              "              0               0               0               0               0 \n",
              "   Conductivity  Organic_carbon Trihalomethanes       Turbidity      Potability \n",
              "              0               0               0               0               0 "
            ]
          },
          "metadata": {}
        }
      ]
    },
    {
      "cell_type": "markdown",
      "source": [
        "Entrenar el modelo Random Forest"
      ],
      "metadata": {
        "id": "zSj9FFsDCWDB"
      }
    },
    {
      "cell_type": "code",
      "source": [
        "# Entrenar el modelo Random Forest\n",
        "set.seed(123)\n",
        "rf_model <- randomForest(Potability ~ ., data = train_data, ntree = 100, importance = TRUE)\n",
        "\n",
        "# Verificar el modelo\n",
        "print(rf_model)\n"
      ],
      "metadata": {
        "colab": {
          "base_uri": "https://localhost:8080/"
        },
        "id": "plQcCpAF_HMv",
        "outputId": "5ea30490-4b56-426f-ca0f-f716b1da9b30"
      },
      "execution_count": 23,
      "outputs": [
        {
          "output_type": "stream",
          "name": "stderr",
          "text": [
            "Warning message in randomForest.default(m, y, ...):\n",
            "“The response has five or fewer unique values.  Are you sure you want to do regression?”\n"
          ]
        },
        {
          "output_type": "stream",
          "name": "stdout",
          "text": [
            "\n",
            "Call:\n",
            " randomForest(formula = Potability ~ ., data = train_data, ntree = 100,      importance = TRUE) \n",
            "               Type of random forest: regression\n",
            "                     Number of trees: 100\n",
            "No. of variables tried at each split: 3\n",
            "\n",
            "          Mean of squared residuals: 0.1884459\n",
            "                    % Var explained: 12.87\n"
          ]
        }
      ]
    },
    {
      "cell_type": "markdown",
      "source": [
        "Elaboración d ematriz de confusión y precisión"
      ],
      "metadata": {
        "id": "K_NfOYHsCoUe"
      }
    },
    {
      "cell_type": "code",
      "source": [
        "# Convertir Potability a factor en los conjuntos de datos\n",
        "train_data$Potability <- as.factor(train_data$Potability)\n",
        "test_data$Potability <- as.factor(test_data$Potability)\n",
        "\n",
        "# Entrenar el modelo nuevamente\n",
        "set.seed(123)\n",
        "rf_model <- randomForest(Potability ~ ., data = train_data, ntree = 100, importance = TRUE)\n",
        "\n",
        "# Verificar el modelo\n",
        "print(rf_model)\n"
      ],
      "metadata": {
        "colab": {
          "base_uri": "https://localhost:8080/"
        },
        "id": "9ydRWxpE_U-n",
        "outputId": "a44925c3-634f-4928-c532-5efe01c2880e"
      },
      "execution_count": 24,
      "outputs": [
        {
          "output_type": "stream",
          "name": "stdout",
          "text": [
            "\n",
            "Call:\n",
            " randomForest(formula = Potability ~ ., data = train_data, ntree = 100,      importance = TRUE) \n",
            "               Type of random forest: classification\n",
            "                     Number of trees: 100\n",
            "No. of variables tried at each split: 3\n",
            "\n",
            "        OOB estimate of  error rate: 30.82%\n",
            "Confusion matrix:\n",
            "     0   1 class.error\n",
            "0 1168 176   0.1309524\n",
            "1  430 192   0.6913183\n"
          ]
        }
      ]
    },
    {
      "cell_type": "markdown",
      "source": [
        "Predicción"
      ],
      "metadata": {
        "id": "z46Txtk4C3yt"
      }
    },
    {
      "cell_type": "code",
      "source": [
        "# Predecir con el modelo en los datos de prueba\n",
        "predictions <- predict(rf_model, test_data)\n",
        "\n",
        "# Crear matriz de confusión\n",
        "conf_matrix <- table(test_data$Potability, predictions)\n",
        "print(conf_matrix)\n",
        "\n",
        "# Calcular la precisión del modelo\n",
        "accuracy <- sum(diag(conf_matrix)) / sum(conf_matrix)\n",
        "cat(\"Precisión del modelo:\", round(accuracy, 2), \"\\n\")\n"
      ],
      "metadata": {
        "colab": {
          "base_uri": "https://localhost:8080/"
        },
        "id": "6g7yacXL_ZSu",
        "outputId": "97510e98-f65d-4004-c110-3c4a6826e7fc"
      },
      "execution_count": 25,
      "outputs": [
        {
          "output_type": "stream",
          "name": "stdout",
          "text": [
            "   predictions\n",
            "      0   1\n",
            "  0 548  46\n",
            "  1 177  72\n",
            "Precisión del modelo: 0.74 \n"
          ]
        }
      ]
    },
    {
      "cell_type": "markdown",
      "source": [
        "**Código para KNN**"
      ],
      "metadata": {
        "id": "c1x2TbT1_-65"
      }
    },
    {
      "cell_type": "code",
      "source": [
        "# Instalar y cargar librería necesaria\n",
        "if (!require(class)) install.packages(\"class\")\n",
        "library(class)\n",
        "\n",
        "# Preparar las variables predictoras y objetivo\n",
        "train_predictors <- train_data[, -which(names(train_data) == \"Potability\")]\n",
        "train_target <- train_data$Potability\n",
        "\n",
        "test_predictors <- test_data[, -which(names(test_data) == \"Potability\")]\n",
        "test_target <- test_data$Potability\n",
        "\n",
        "# Entrenar y predecir con KNN (k = 5 por defecto, ajustable)\n",
        "set.seed(123)\n",
        "knn_predictions <- knn(train = train_predictors, test = test_predictors, cl = train_target, k = 5)\n",
        "\n",
        "# Evaluar el modelo\n",
        "knn_conf_matrix <- table(test_target, knn_predictions)\n",
        "print(knn_conf_matrix)\n",
        "\n",
        "# Calcular precisión\n",
        "knn_accuracy <- sum(diag(knn_conf_matrix)) / sum(knn_conf_matrix)\n",
        "cat(\"Precisión del modelo KNN:\", round(knn_accuracy, 2), \"\\n\")\n"
      ],
      "metadata": {
        "colab": {
          "base_uri": "https://localhost:8080/"
        },
        "id": "djJZWVb1ACDO",
        "outputId": "6ed91537-c6e4-4993-a887-70860ada2f7d"
      },
      "execution_count": 26,
      "outputs": [
        {
          "output_type": "stream",
          "name": "stderr",
          "text": [
            "Loading required package: class\n",
            "\n"
          ]
        },
        {
          "output_type": "stream",
          "name": "stdout",
          "text": [
            "           knn_predictions\n",
            "test_target   0   1\n",
            "          0 490 104\n",
            "          1 170  79\n",
            "Precisión del modelo KNN: 0.67 \n"
          ]
        }
      ]
    },
    {
      "cell_type": "code",
      "source": [
        "# Instalar y cargar librería necesaria\n",
        "if (!require(rpart)) install.packages(\"rpart\")\n",
        "library(rpart)\n",
        "\n",
        "# Entrenar el modelo de Árbol de Decisión\n",
        "set.seed(123)\n",
        "tree_model <- rpart(Potability ~ ., data = train_data, method = \"class\")\n",
        "\n",
        "# Visualizar el árbol de decisión\n",
        "print(tree_model)\n",
        "\n",
        "# Evaluar el modelo\n",
        "tree_predictions <- predict(tree_model, test_data, type = \"class\")\n",
        "tree_conf_matrix <- table(test_data$Potability, tree_predictions)\n",
        "\n",
        "# Mostrar matriz de confusión\n",
        "print(tree_conf_matrix)\n",
        "\n",
        "# Calcular precisión\n",
        "tree_accuracy <- sum(diag(tree_conf_matrix)) / sum(tree_conf_matrix)\n",
        "cat(\"Precisión del modelo Árbol de Decisión:\", round(tree_accuracy, 2), \"\\n\")\n"
      ],
      "metadata": {
        "colab": {
          "base_uri": "https://localhost:8080/"
        },
        "id": "usZk6Z5bAXF1",
        "outputId": "1f5e3aa3-8593-4852-b0fb-26f4a52787d2"
      },
      "execution_count": 27,
      "outputs": [
        {
          "output_type": "stream",
          "name": "stderr",
          "text": [
            "Loading required package: rpart\n",
            "\n"
          ]
        },
        {
          "output_type": "stream",
          "name": "stdout",
          "text": [
            "n= 1966 \n",
            "\n",
            "node), split, n, loss, yval, (yprob)\n",
            "      * denotes terminal node\n",
            "\n",
            "  1) root 1966 622 0 (0.68362157 0.31637843)  \n",
            "    2) Chloramines< 0.5541376 1307 344 0 (0.73680184 0.26319816)  \n",
            "      4) Chloramines>=0.52663 507  49 0 (0.90335306 0.09664694) *\n",
            "      5) Chloramines< 0.52663 800 295 0 (0.63125000 0.36875000)  \n",
            "       10) ph>=0.6083007 144  26 0 (0.81944444 0.18055556) *\n",
            "       11) ph< 0.6083007 656 269 0 (0.58993902 0.41006098)  \n",
            "         22) Hardness< 0.5957394 476 176 0 (0.63025210 0.36974790)  \n",
            "           44) Solids< 0.52794 417 140 0 (0.66426859 0.33573141) *\n",
            "           45) Solids>=0.52794 59  23 1 (0.38983051 0.61016949) *\n",
            "         23) Hardness>=0.5957394 180  87 1 (0.48333333 0.51666667)  \n",
            "           46) Sulfate< 0.6263678 139  60 0 (0.56834532 0.43165468)  \n",
            "             92) Hardness>=0.6185547 108  39 0 (0.63888889 0.36111111) *\n",
            "             93) Hardness< 0.6185547 31  10 1 (0.32258065 0.67741935) *\n",
            "           47) Sulfate>=0.6263678 41   8 1 (0.19512195 0.80487805) *\n",
            "    3) Chloramines>=0.5541376 659 278 0 (0.57814871 0.42185129)  \n",
            "      6) ph< 0.4474025 204  58 0 (0.71568627 0.28431373) *\n",
            "      7) ph>=0.4474025 455 220 0 (0.51648352 0.48351648)  \n",
            "       14) Sulfate>=0.552657 315 134 0 (0.57460317 0.42539683)  \n",
            "         28) Sulfate< 0.7363777 304 125 0 (0.58881579 0.41118421)  \n",
            "           56) Conductivity>=0.3177605 233  86 0 (0.63090129 0.36909871) *\n",
            "           57) Conductivity< 0.3177605 71  32 1 (0.45070423 0.54929577)  \n",
            "            114) ph< 0.548963 39  15 0 (0.61538462 0.38461538) *\n",
            "            115) ph>=0.548963 32   8 1 (0.25000000 0.75000000) *\n",
            "         29) Sulfate>=0.7363777 11   2 1 (0.18181818 0.81818182) *\n",
            "       15) Sulfate< 0.552657 140  54 1 (0.38571429 0.61428571)  \n",
            "         30) Hardness>=0.5953448 53  23 0 (0.56603774 0.43396226)  \n",
            "           60) ph< 0.6479764 44  15 0 (0.65909091 0.34090909) *\n",
            "           61) ph>=0.6479764 9   1 1 (0.11111111 0.88888889) *\n",
            "         31) Hardness< 0.5953448 87  24 1 (0.27586207 0.72413793) *\n",
            "   tree_predictions\n",
            "      0   1\n",
            "  0 538  56\n",
            "  1 204  45\n",
            "Precisión del modelo Árbol de Decisión: 0.69 \n"
          ]
        }
      ]
    },
    {
      "cell_type": "markdown",
      "source": [
        "Modleo Naive Bayes"
      ],
      "metadata": {
        "id": "twUmdaADAkd9"
      }
    },
    {
      "cell_type": "code",
      "source": [
        "# Instalar y cargar la librería necesaria\n",
        "if (!require(e1071)) install.packages(\"e1071\")\n",
        "library(e1071)\n",
        "\n",
        "# Entrenar el modelo Naive Bayes\n",
        "set.seed(123)\n",
        "nb_model <- naiveBayes(Potability ~ ., data = train_data)\n",
        "\n",
        "# Evaluar el modelo\n",
        "nb_predictions <- predict(nb_model, test_data)\n",
        "nb_conf_matrix <- table(test_data$Potability, nb_predictions)\n",
        "\n",
        "# Mostrar matriz de confusión\n",
        "print(nb_conf_matrix)\n",
        "\n",
        "# Calcular precisión\n",
        "nb_accuracy <- sum(diag(nb_conf_matrix)) / sum(nb_conf_matrix)\n",
        "cat(\"Precisión del modelo Naive Bayes:\", round(nb_accuracy, 2), \"\\n\")\n"
      ],
      "metadata": {
        "colab": {
          "base_uri": "https://localhost:8080/"
        },
        "id": "pDFxDJOAAnrP",
        "outputId": "b73251d3-f159-4141-8b8e-cbd50985fd2a"
      },
      "execution_count": 28,
      "outputs": [
        {
          "output_type": "stream",
          "name": "stderr",
          "text": [
            "Loading required package: e1071\n",
            "\n",
            "Warning message in library(package, lib.loc = lib.loc, character.only = TRUE, logical.return = TRUE, :\n",
            "“there is no package called ‘e1071’”\n",
            "Installing package into ‘/usr/local/lib/R/site-library’\n",
            "(as ‘lib’ is unspecified)\n",
            "\n",
            "also installing the dependency ‘proxy’\n",
            "\n",
            "\n"
          ]
        },
        {
          "output_type": "stream",
          "name": "stdout",
          "text": [
            "   nb_predictions\n",
            "      0   1\n",
            "  0 489 105\n",
            "  1 188  61\n",
            "Precisión del modelo Naive Bayes: 0.65 \n"
          ]
        }
      ]
    },
    {
      "cell_type": "code",
      "source": [
        "# Crear un dataframe con los resultados\n",
        "resultados <- data.frame(\n",
        "  Metodo = c(\"KNN\", \"Árbol de decisión\", \"Naive Bayes\", \"Random Forest\"),\n",
        "  Precision = c(67, 69, 65, 74)\n",
        ")\n",
        "\n",
        "# Mostrar la tabla en formato ordenado\n",
        "print(resultados)\n",
        "\n",
        "# Si deseas un formato más visual, puedes usar knitr::kable (opcional)\n",
        "if (!require(knitr)) install.packages(\"knitr\")\n",
        "library(knitr)\n",
        "\n",
        "kable(resultados, col.names = c(\"Método de Clasificación\", \"% de Buena Clasificación\"),\n",
        "      caption = \"Resultados de los Modelos Evaluados\")\n"
      ],
      "metadata": {
        "colab": {
          "base_uri": "https://localhost:8080/",
          "height": 312
        },
        "id": "Ty0qTZkTBBLM",
        "outputId": "4a4bae38-d1fd-4f95-a935-7d5b99a99528"
      },
      "execution_count": 29,
      "outputs": [
        {
          "output_type": "stream",
          "name": "stdout",
          "text": [
            "             Metodo Precision\n",
            "1               KNN        67\n",
            "2 Árbol de decisión        69\n",
            "3       Naive Bayes        65\n",
            "4     Random Forest        74\n"
          ]
        },
        {
          "output_type": "stream",
          "name": "stderr",
          "text": [
            "Loading required package: knitr\n",
            "\n"
          ]
        },
        {
          "output_type": "display_data",
          "data": {
            "text/plain": [
              "\n",
              "\n",
              "Table: Resultados de los Modelos Evaluados\n",
              "\n",
              "|Método de Clasificación | % de Buena Clasificación|\n",
              "|:-----------------------|------------------------:|\n",
              "|KNN                     |                       67|\n",
              "|Árbol de decisión       |                       69|\n",
              "|Naive Bayes             |                       65|\n",
              "|Random Forest           |                       74|"
            ]
          },
          "metadata": {}
        }
      ]
    },
    {
      "cell_type": "code",
      "source": [
        "# Instalar y cargar ggplot2\n",
        "if (!require(ggplot2)) install.packages(\"ggplot2\")\n",
        "library(ggplot2)\n",
        "\n",
        "# Crear un dataframe con los resultados\n",
        "resultados <- data.frame(\n",
        "  Metodo = c(\"KNN\", \"Árbol de Decisión\", \"Naive Bayes\", \"Random Forest\"),\n",
        "  Precision = c(67, 69, 65, 74)\n",
        ")\n",
        "\n",
        "# Crear la gráfica de pastel\n",
        "ggplot(resultados, aes(x = \"\", y = Precision, fill = Metodo)) +\n",
        "  geom_bar(stat = \"identity\", width = 1, color = \"white\") +\n",
        "  coord_polar(theta = \"y\") +\n",
        "  theme_void() +\n",
        "  labs(title = \"Comparación de Precisión de Modelos\") +\n",
        "  theme(plot.title = element_text(hjust = 0.5, size = 14))\n"
      ],
      "metadata": {
        "colab": {
          "base_uri": "https://localhost:8080/",
          "height": 437
        },
        "id": "yjTqxXtkBoym",
        "outputId": "6b9db31c-aa60-44d9-9fdd-5b148e17fd57"
      },
      "execution_count": 31,
      "outputs": [
        {
          "output_type": "display_data",
          "data": {
            "text/plain": [
              "plot without title"
            ],
            "image/png": "[encoded data removed]"
          },
          "metadata": {
            "image/png": {
              "width": 420,
              "height": 420
            }
          }
        }
      ]
    }
  ]
}